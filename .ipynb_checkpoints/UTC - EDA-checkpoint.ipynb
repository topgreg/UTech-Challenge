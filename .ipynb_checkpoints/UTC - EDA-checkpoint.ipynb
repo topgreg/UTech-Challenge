{
 "cells": [
  {
   "cell_type": "markdown",
   "id": "a4102f31",
   "metadata": {},
   "source": [
    "# UTC - EDA\n",
    "\n",
    "Greg Welliver   "
   ]
  },
  {
   "cell_type": "code",
   "execution_count": 1,
   "id": "ba529c28",
   "metadata": {
    "scrolled": true
   },
   "outputs": [],
   "source": [
    "# Import relevant libraries and packages.\n",
    "import numpy as np \n",
    "import pandas as pd \n",
    "import matplotlib.pyplot as plt \n",
    "import seaborn as sns \n",
    "import statsmodels.api as sm\n",
    "from statsmodels.graphics.api import abline_plot\n",
    "from sklearn.metrics import mean_squared_error, r2_score\n",
    "from sklearn.model_selection import train_test_split\n",
    "from sklearn import linear_model, preprocessing \n",
    "import warnings\n",
    "from scipy import stats\n",
    "import re\n",
    "from glob import glob, iglob\n",
    "from datetime import datetime\n",
    "from wordcloud import WordCloud, STOPWORDS\n",
    "from datetime import datetime, timedelta\n",
    "\n",
    "\n",
    "# Seaborn settings\n",
    "sns.set_context('notebook')\n",
    "#sns.set_style(\"whitegrid\")\n",
    "#sns.set_style(\"white\")\n",
    "style_set = sns.set_style('whitegrid')\n",
    "pd.options.display.float_format = '{:,}'.format\n",
    "color_choice1 = 'plum'\n",
    "color_choice2 = 'lightblue'\n",
    "color_choice3 = 'lightgreen'\n",
    "#ax.yaxis.set_major_formatter('{x:,.0f}')\n",
    "#sns.set_context('notebook', font_scale = 4)\n",
    "\n",
    "%matplotlib inline\n",
    "import pandas as pd\n",
    "#from mpl_toolkits.basemap import Basemap\n",
    "\n",
    "import geopandas as gpd\n",
    "from shapely.geometry import Point, Polygon\n",
    "import contextily as ctx\n",
    "\n",
    "from sklearn.feature_extraction.text import CountVectorizer\n",
    "\n",
    "import json\n",
    "from ydata_profiling import ProfileReport\n"
   ]
  },
  {
   "cell_type": "markdown",
   "id": "fbf95157",
   "metadata": {},
   "source": [
    "## Load the data\n",
    "\n"
   ]
  },
  {
   "cell_type": "code",
   "execution_count": 2,
   "id": "892bc82a",
   "metadata": {},
   "outputs": [],
   "source": [
    "# load data\n",
    "df1 = pd.read_json('logins.json')\n",
    "df2 = pd.read_json('ultimate_data_challenge.json')\n",
    "\n"
   ]
  },
  {
   "cell_type": "code",
   "execution_count": 3,
   "id": "ae47872c",
   "metadata": {},
   "outputs": [
    {
     "data": {
      "text/html": [
       "<div>\n",
       "<style scoped>\n",
       "    .dataframe tbody tr th:only-of-type {\n",
       "        vertical-align: middle;\n",
       "    }\n",
       "\n",
       "    .dataframe tbody tr th {\n",
       "        vertical-align: top;\n",
       "    }\n",
       "\n",
       "    .dataframe thead th {\n",
       "        text-align: right;\n",
       "    }\n",
       "</style>\n",
       "<table border=\"1\" class=\"dataframe\">\n",
       "  <thead>\n",
       "    <tr style=\"text-align: right;\">\n",
       "      <th></th>\n",
       "      <th>login_time</th>\n",
       "    </tr>\n",
       "  </thead>\n",
       "  <tbody>\n",
       "    <tr>\n",
       "      <th>0</th>\n",
       "      <td>1970-01-01 20:13:18</td>\n",
       "    </tr>\n",
       "    <tr>\n",
       "      <th>1</th>\n",
       "      <td>1970-01-01 20:16:10</td>\n",
       "    </tr>\n",
       "    <tr>\n",
       "      <th>2</th>\n",
       "      <td>1970-01-01 20:16:37</td>\n",
       "    </tr>\n",
       "    <tr>\n",
       "      <th>3</th>\n",
       "      <td>1970-01-01 20:16:36</td>\n",
       "    </tr>\n",
       "    <tr>\n",
       "      <th>4</th>\n",
       "      <td>1970-01-01 20:26:21</td>\n",
       "    </tr>\n",
       "  </tbody>\n",
       "</table>\n",
       "</div>"
      ],
      "text/plain": [
       "           login_time\n",
       "0 1970-01-01 20:13:18\n",
       "1 1970-01-01 20:16:10\n",
       "2 1970-01-01 20:16:37\n",
       "3 1970-01-01 20:16:36\n",
       "4 1970-01-01 20:26:21"
      ]
     },
     "execution_count": 3,
     "metadata": {},
     "output_type": "execute_result"
    }
   ],
   "source": [
    "df1.head()"
   ]
  },
  {
   "cell_type": "markdown",
   "id": "cc162c2a",
   "metadata": {},
   "source": [
    "profile = ProfileReport(df1)\n",
    "profile"
   ]
  },
  {
   "cell_type": "markdown",
   "id": "996c19f3",
   "metadata": {},
   "source": [
    "### Data quality issues:\n",
    "- according to the profiling report, there are 868 duplicate rows (0.9%) - there is no need to remove these, as it is possible that two users logged in at the same time\n",
    "- there are not any nulls"
   ]
  },
  {
   "cell_type": "code",
   "execution_count": 4,
   "id": "a0bd1168",
   "metadata": {},
   "outputs": [
    {
     "data": {
      "text/html": [
       "<div>\n",
       "<style scoped>\n",
       "    .dataframe tbody tr th:only-of-type {\n",
       "        vertical-align: middle;\n",
       "    }\n",
       "\n",
       "    .dataframe tbody tr th {\n",
       "        vertical-align: top;\n",
       "    }\n",
       "\n",
       "    .dataframe thead th {\n",
       "        text-align: right;\n",
       "    }\n",
       "</style>\n",
       "<table border=\"1\" class=\"dataframe\">\n",
       "  <thead>\n",
       "    <tr style=\"text-align: right;\">\n",
       "      <th></th>\n",
       "      <th>login_time</th>\n",
       "    </tr>\n",
       "  </thead>\n",
       "  <tbody>\n",
       "    <tr>\n",
       "      <th>347</th>\n",
       "      <td>1970-01-02 10:59:52</td>\n",
       "    </tr>\n",
       "    <tr>\n",
       "      <th>354</th>\n",
       "      <td>1970-01-02 10:59:52</td>\n",
       "    </tr>\n",
       "    <tr>\n",
       "      <th>427</th>\n",
       "      <td>1970-01-02 12:27:48</td>\n",
       "    </tr>\n",
       "    <tr>\n",
       "      <th>434</th>\n",
       "      <td>1970-01-02 12:27:48</td>\n",
       "    </tr>\n",
       "    <tr>\n",
       "      <th>503</th>\n",
       "      <td>1970-01-02 15:08:27</td>\n",
       "    </tr>\n",
       "    <tr>\n",
       "      <th>...</th>\n",
       "      <td>...</td>\n",
       "    </tr>\n",
       "    <tr>\n",
       "      <th>92439</th>\n",
       "      <td>1970-04-12 17:12:21</td>\n",
       "    </tr>\n",
       "    <tr>\n",
       "      <th>92984</th>\n",
       "      <td>1970-04-13 12:23:46</td>\n",
       "    </tr>\n",
       "    <tr>\n",
       "      <th>92986</th>\n",
       "      <td>1970-04-13 12:23:46</td>\n",
       "    </tr>\n",
       "    <tr>\n",
       "      <th>93021</th>\n",
       "      <td>1970-04-13 13:44:18</td>\n",
       "    </tr>\n",
       "    <tr>\n",
       "      <th>93022</th>\n",
       "      <td>1970-04-13 13:44:18</td>\n",
       "    </tr>\n",
       "  </tbody>\n",
       "</table>\n",
       "<p>1745 rows × 1 columns</p>\n",
       "</div>"
      ],
      "text/plain": [
       "               login_time\n",
       "347   1970-01-02 10:59:52\n",
       "354   1970-01-02 10:59:52\n",
       "427   1970-01-02 12:27:48\n",
       "434   1970-01-02 12:27:48\n",
       "503   1970-01-02 15:08:27\n",
       "...                   ...\n",
       "92439 1970-04-12 17:12:21\n",
       "92984 1970-04-13 12:23:46\n",
       "92986 1970-04-13 12:23:46\n",
       "93021 1970-04-13 13:44:18\n",
       "93022 1970-04-13 13:44:18\n",
       "\n",
       "[1745 rows x 1 columns]"
      ]
     },
     "execution_count": 4,
     "metadata": {},
     "output_type": "execute_result"
    }
   ],
   "source": [
    "ids = df1[\"login_time\"]\n",
    "df1[ids.isin(ids[ids.duplicated()])].sort_values(\"login_time\")"
   ]
  },
  {
   "cell_type": "code",
   "execution_count": 5,
   "id": "fe488a22",
   "metadata": {},
   "outputs": [
    {
     "data": {
      "text/plain": [
       "login_time\n",
       "False         93142\n",
       "dtype: int64"
      ]
     },
     "execution_count": 5,
     "metadata": {},
     "output_type": "execute_result"
    }
   ],
   "source": [
    "df1.isna().value_counts()"
   ]
  },
  {
   "cell_type": "code",
   "execution_count": 6,
   "id": "91ef9fc8",
   "metadata": {},
   "outputs": [
    {
     "data": {
      "text/plain": [
       "login_time    datetime64[ns]\n",
       "dtype: object"
      ]
     },
     "execution_count": 6,
     "metadata": {},
     "output_type": "execute_result"
    }
   ],
   "source": [
    "df1.dtypes"
   ]
  },
  {
   "cell_type": "code",
   "execution_count": null,
   "id": "ede947ca",
   "metadata": {},
   "outputs": [],
   "source": []
  },
  {
   "cell_type": "code",
   "execution_count": null,
   "id": "f811651e",
   "metadata": {},
   "outputs": [],
   "source": []
  },
  {
   "cell_type": "code",
   "execution_count": null,
   "id": "47cc097d",
   "metadata": {},
   "outputs": [],
   "source": []
  },
  {
   "cell_type": "code",
   "execution_count": null,
   "id": "298fde3b",
   "metadata": {},
   "outputs": [],
   "source": []
  },
  {
   "cell_type": "code",
   "execution_count": null,
   "id": "02b16d8a",
   "metadata": {},
   "outputs": [],
   "source": []
  },
  {
   "cell_type": "code",
   "execution_count": 7,
   "id": "f9453e75",
   "metadata": {},
   "outputs": [
    {
     "data": {
      "text/plain": [
       "Timestamp('1970-04-13 18:57:38')"
      ]
     },
     "execution_count": 7,
     "metadata": {},
     "output_type": "execute_result"
    }
   ],
   "source": [
    "df1.login_time.max()"
   ]
  },
  {
   "cell_type": "code",
   "execution_count": 8,
   "id": "a144463e",
   "metadata": {},
   "outputs": [],
   "source": [
    "start = df1.login_time.min()\n",
    "end = df1.login_time.max()"
   ]
  },
  {
   "cell_type": "code",
   "execution_count": 9,
   "id": "f83e7d38",
   "metadata": {},
   "outputs": [],
   "source": [
    "delta = 15\n",
    "def datetime_range(start, end, delta):\n",
    "    current = start\n",
    "    while current < end:\n",
    "        yield current\n",
    "        current += delta"
   ]
  },
  {
   "cell_type": "markdown",
   "id": "385feb6d",
   "metadata": {},
   "source": [
    "dts = [dt.strftime('%Y-%m-%d %H:%M:%S') for dt in \n",
    "       datetime_range(datetime(2016, 9, 1, 7), datetime(2016, 9, 1, 9+12), \n",
    "       timedelta(minutes=15))]"
   ]
  },
  {
   "cell_type": "code",
   "execution_count": 10,
   "id": "0e8ea435",
   "metadata": {},
   "outputs": [],
   "source": [
    "dts = [dt.strftime('%Y-%m-%d %H:%M:%S') for dt in \n",
    "       datetime_range(df1.login_time.min(), df1.login_time.max(), \n",
    "       timedelta(minutes=15))]"
   ]
  },
  {
   "cell_type": "code",
   "execution_count": 11,
   "id": "173f68ba",
   "metadata": {},
   "outputs": [],
   "source": [
    "dts = pd.DataFrame(dts)"
   ]
  },
  {
   "cell_type": "code",
   "execution_count": 12,
   "id": "1659cc9d",
   "metadata": {},
   "outputs": [
    {
     "data": {
      "text/html": [
       "<div>\n",
       "<style scoped>\n",
       "    .dataframe tbody tr th:only-of-type {\n",
       "        vertical-align: middle;\n",
       "    }\n",
       "\n",
       "    .dataframe tbody tr th {\n",
       "        vertical-align: top;\n",
       "    }\n",
       "\n",
       "    .dataframe thead th {\n",
       "        text-align: right;\n",
       "    }\n",
       "</style>\n",
       "<table border=\"1\" class=\"dataframe\">\n",
       "  <thead>\n",
       "    <tr style=\"text-align: right;\">\n",
       "      <th></th>\n",
       "      <th>0</th>\n",
       "    </tr>\n",
       "  </thead>\n",
       "  <tbody>\n",
       "    <tr>\n",
       "      <th>0</th>\n",
       "      <td>1970-01-01 20:12:16</td>\n",
       "    </tr>\n",
       "    <tr>\n",
       "      <th>1</th>\n",
       "      <td>1970-01-01 20:27:16</td>\n",
       "    </tr>\n",
       "    <tr>\n",
       "      <th>2</th>\n",
       "      <td>1970-01-01 20:42:16</td>\n",
       "    </tr>\n",
       "    <tr>\n",
       "      <th>3</th>\n",
       "      <td>1970-01-01 20:57:16</td>\n",
       "    </tr>\n",
       "    <tr>\n",
       "      <th>4</th>\n",
       "      <td>1970-01-01 21:12:16</td>\n",
       "    </tr>\n",
       "    <tr>\n",
       "      <th>...</th>\n",
       "      <td>...</td>\n",
       "    </tr>\n",
       "    <tr>\n",
       "      <th>9783</th>\n",
       "      <td>1970-04-13 17:57:16</td>\n",
       "    </tr>\n",
       "    <tr>\n",
       "      <th>9784</th>\n",
       "      <td>1970-04-13 18:12:16</td>\n",
       "    </tr>\n",
       "    <tr>\n",
       "      <th>9785</th>\n",
       "      <td>1970-04-13 18:27:16</td>\n",
       "    </tr>\n",
       "    <tr>\n",
       "      <th>9786</th>\n",
       "      <td>1970-04-13 18:42:16</td>\n",
       "    </tr>\n",
       "    <tr>\n",
       "      <th>9787</th>\n",
       "      <td>1970-04-13 18:57:16</td>\n",
       "    </tr>\n",
       "  </tbody>\n",
       "</table>\n",
       "<p>9788 rows × 1 columns</p>\n",
       "</div>"
      ],
      "text/plain": [
       "                        0\n",
       "0     1970-01-01 20:12:16\n",
       "1     1970-01-01 20:27:16\n",
       "2     1970-01-01 20:42:16\n",
       "3     1970-01-01 20:57:16\n",
       "4     1970-01-01 21:12:16\n",
       "...                   ...\n",
       "9783  1970-04-13 17:57:16\n",
       "9784  1970-04-13 18:12:16\n",
       "9785  1970-04-13 18:27:16\n",
       "9786  1970-04-13 18:42:16\n",
       "9787  1970-04-13 18:57:16\n",
       "\n",
       "[9788 rows x 1 columns]"
      ]
     },
     "execution_count": 12,
     "metadata": {},
     "output_type": "execute_result"
    }
   ],
   "source": [
    "dts"
   ]
  },
  {
   "cell_type": "code",
   "execution_count": 13,
   "id": "392932bb",
   "metadata": {},
   "outputs": [],
   "source": [
    "df3 = pd.DataFrame()"
   ]
  },
  {
   "cell_type": "code",
   "execution_count": 14,
   "id": "63be003b",
   "metadata": {},
   "outputs": [],
   "source": [
    "df3['begin_time'] = dts"
   ]
  },
  {
   "cell_type": "code",
   "execution_count": 15,
   "id": "1277d5ee",
   "metadata": {},
   "outputs": [],
   "source": [
    "#new_df['begin_times2'] = pd.to_datetime(new_df['begin_times'])\n",
    "df3['begin_time'] = pd.to_datetime(df3['begin_time'])"
   ]
  },
  {
   "cell_type": "code",
   "execution_count": 16,
   "id": "39e7947e",
   "metadata": {},
   "outputs": [
    {
     "data": {
      "text/plain": [
       "0      1970-01-01 20:12:16\n",
       "1      1970-01-01 20:27:16\n",
       "2      1970-01-01 20:42:16\n",
       "3      1970-01-01 20:57:16\n",
       "4      1970-01-01 21:12:16\n",
       "               ...        \n",
       "9783   1970-04-13 17:57:16\n",
       "9784   1970-04-13 18:12:16\n",
       "9785   1970-04-13 18:27:16\n",
       "9786   1970-04-13 18:42:16\n",
       "9787   1970-04-13 18:57:16\n",
       "Name: begin_time, Length: 9788, dtype: datetime64[ns]"
      ]
     },
     "execution_count": 16,
     "metadata": {},
     "output_type": "execute_result"
    }
   ],
   "source": [
    "df3['begin_time']"
   ]
  },
  {
   "cell_type": "code",
   "execution_count": 17,
   "id": "3ecb925b",
   "metadata": {},
   "outputs": [],
   "source": [
    "df3['duration'] = 15"
   ]
  },
  {
   "cell_type": "code",
   "execution_count": 18,
   "id": "b34003ad",
   "metadata": {},
   "outputs": [
    {
     "data": {
      "text/html": [
       "<div>\n",
       "<style scoped>\n",
       "    .dataframe tbody tr th:only-of-type {\n",
       "        vertical-align: middle;\n",
       "    }\n",
       "\n",
       "    .dataframe tbody tr th {\n",
       "        vertical-align: top;\n",
       "    }\n",
       "\n",
       "    .dataframe thead th {\n",
       "        text-align: right;\n",
       "    }\n",
       "</style>\n",
       "<table border=\"1\" class=\"dataframe\">\n",
       "  <thead>\n",
       "    <tr style=\"text-align: right;\">\n",
       "      <th></th>\n",
       "      <th>begin_time</th>\n",
       "      <th>duration</th>\n",
       "      <th>end_time</th>\n",
       "    </tr>\n",
       "  </thead>\n",
       "  <tbody>\n",
       "    <tr>\n",
       "      <th>0</th>\n",
       "      <td>1970-01-01 20:12:16</td>\n",
       "      <td>15</td>\n",
       "      <td>1970-01-01 20:27:16</td>\n",
       "    </tr>\n",
       "    <tr>\n",
       "      <th>1</th>\n",
       "      <td>1970-01-01 20:27:16</td>\n",
       "      <td>15</td>\n",
       "      <td>1970-01-01 20:42:16</td>\n",
       "    </tr>\n",
       "    <tr>\n",
       "      <th>2</th>\n",
       "      <td>1970-01-01 20:42:16</td>\n",
       "      <td>15</td>\n",
       "      <td>1970-01-01 20:57:16</td>\n",
       "    </tr>\n",
       "    <tr>\n",
       "      <th>3</th>\n",
       "      <td>1970-01-01 20:57:16</td>\n",
       "      <td>15</td>\n",
       "      <td>1970-01-01 21:12:16</td>\n",
       "    </tr>\n",
       "    <tr>\n",
       "      <th>4</th>\n",
       "      <td>1970-01-01 21:12:16</td>\n",
       "      <td>15</td>\n",
       "      <td>1970-01-01 21:27:16</td>\n",
       "    </tr>\n",
       "    <tr>\n",
       "      <th>...</th>\n",
       "      <td>...</td>\n",
       "      <td>...</td>\n",
       "      <td>...</td>\n",
       "    </tr>\n",
       "    <tr>\n",
       "      <th>9783</th>\n",
       "      <td>1970-04-13 17:57:16</td>\n",
       "      <td>15</td>\n",
       "      <td>1970-04-13 18:12:16</td>\n",
       "    </tr>\n",
       "    <tr>\n",
       "      <th>9784</th>\n",
       "      <td>1970-04-13 18:12:16</td>\n",
       "      <td>15</td>\n",
       "      <td>1970-04-13 18:27:16</td>\n",
       "    </tr>\n",
       "    <tr>\n",
       "      <th>9785</th>\n",
       "      <td>1970-04-13 18:27:16</td>\n",
       "      <td>15</td>\n",
       "      <td>1970-04-13 18:42:16</td>\n",
       "    </tr>\n",
       "    <tr>\n",
       "      <th>9786</th>\n",
       "      <td>1970-04-13 18:42:16</td>\n",
       "      <td>15</td>\n",
       "      <td>1970-04-13 18:57:16</td>\n",
       "    </tr>\n",
       "    <tr>\n",
       "      <th>9787</th>\n",
       "      <td>1970-04-13 18:57:16</td>\n",
       "      <td>15</td>\n",
       "      <td>1970-04-13 19:12:16</td>\n",
       "    </tr>\n",
       "  </tbody>\n",
       "</table>\n",
       "<p>9788 rows × 3 columns</p>\n",
       "</div>"
      ],
      "text/plain": [
       "              begin_time  duration            end_time\n",
       "0    1970-01-01 20:12:16        15 1970-01-01 20:27:16\n",
       "1    1970-01-01 20:27:16        15 1970-01-01 20:42:16\n",
       "2    1970-01-01 20:42:16        15 1970-01-01 20:57:16\n",
       "3    1970-01-01 20:57:16        15 1970-01-01 21:12:16\n",
       "4    1970-01-01 21:12:16        15 1970-01-01 21:27:16\n",
       "...                  ...       ...                 ...\n",
       "9783 1970-04-13 17:57:16        15 1970-04-13 18:12:16\n",
       "9784 1970-04-13 18:12:16        15 1970-04-13 18:27:16\n",
       "9785 1970-04-13 18:27:16        15 1970-04-13 18:42:16\n",
       "9786 1970-04-13 18:42:16        15 1970-04-13 18:57:16\n",
       "9787 1970-04-13 18:57:16        15 1970-04-13 19:12:16\n",
       "\n",
       "[9788 rows x 3 columns]"
      ]
     },
     "execution_count": 18,
     "metadata": {},
     "output_type": "execute_result"
    }
   ],
   "source": [
    "df3['end_time'] = df3['begin_time'] + pd.to_timedelta(df3['duration'], unit='m')\n",
    "df3"
   ]
  },
  {
   "cell_type": "code",
   "execution_count": 19,
   "id": "a97a0b48",
   "metadata": {},
   "outputs": [],
   "source": [
    "#df3 = df3.drop(['duration'], axis=1, inplace=True)\n",
    "df3 = df3.drop(['duration'], axis=1)"
   ]
  },
  {
   "cell_type": "code",
   "execution_count": 20,
   "id": "95fcb40c",
   "metadata": {},
   "outputs": [
    {
     "data": {
      "text/html": [
       "<div>\n",
       "<style scoped>\n",
       "    .dataframe tbody tr th:only-of-type {\n",
       "        vertical-align: middle;\n",
       "    }\n",
       "\n",
       "    .dataframe tbody tr th {\n",
       "        vertical-align: top;\n",
       "    }\n",
       "\n",
       "    .dataframe thead th {\n",
       "        text-align: right;\n",
       "    }\n",
       "</style>\n",
       "<table border=\"1\" class=\"dataframe\">\n",
       "  <thead>\n",
       "    <tr style=\"text-align: right;\">\n",
       "      <th></th>\n",
       "      <th>begin_time</th>\n",
       "      <th>end_time</th>\n",
       "    </tr>\n",
       "  </thead>\n",
       "  <tbody>\n",
       "    <tr>\n",
       "      <th>0</th>\n",
       "      <td>1970-01-01 20:12:16</td>\n",
       "      <td>1970-01-01 20:27:16</td>\n",
       "    </tr>\n",
       "    <tr>\n",
       "      <th>1</th>\n",
       "      <td>1970-01-01 20:27:16</td>\n",
       "      <td>1970-01-01 20:42:16</td>\n",
       "    </tr>\n",
       "    <tr>\n",
       "      <th>2</th>\n",
       "      <td>1970-01-01 20:42:16</td>\n",
       "      <td>1970-01-01 20:57:16</td>\n",
       "    </tr>\n",
       "    <tr>\n",
       "      <th>3</th>\n",
       "      <td>1970-01-01 20:57:16</td>\n",
       "      <td>1970-01-01 21:12:16</td>\n",
       "    </tr>\n",
       "    <tr>\n",
       "      <th>4</th>\n",
       "      <td>1970-01-01 21:12:16</td>\n",
       "      <td>1970-01-01 21:27:16</td>\n",
       "    </tr>\n",
       "    <tr>\n",
       "      <th>...</th>\n",
       "      <td>...</td>\n",
       "      <td>...</td>\n",
       "    </tr>\n",
       "    <tr>\n",
       "      <th>9783</th>\n",
       "      <td>1970-04-13 17:57:16</td>\n",
       "      <td>1970-04-13 18:12:16</td>\n",
       "    </tr>\n",
       "    <tr>\n",
       "      <th>9784</th>\n",
       "      <td>1970-04-13 18:12:16</td>\n",
       "      <td>1970-04-13 18:27:16</td>\n",
       "    </tr>\n",
       "    <tr>\n",
       "      <th>9785</th>\n",
       "      <td>1970-04-13 18:27:16</td>\n",
       "      <td>1970-04-13 18:42:16</td>\n",
       "    </tr>\n",
       "    <tr>\n",
       "      <th>9786</th>\n",
       "      <td>1970-04-13 18:42:16</td>\n",
       "      <td>1970-04-13 18:57:16</td>\n",
       "    </tr>\n",
       "    <tr>\n",
       "      <th>9787</th>\n",
       "      <td>1970-04-13 18:57:16</td>\n",
       "      <td>1970-04-13 19:12:16</td>\n",
       "    </tr>\n",
       "  </tbody>\n",
       "</table>\n",
       "<p>9788 rows × 2 columns</p>\n",
       "</div>"
      ],
      "text/plain": [
       "              begin_time            end_time\n",
       "0    1970-01-01 20:12:16 1970-01-01 20:27:16\n",
       "1    1970-01-01 20:27:16 1970-01-01 20:42:16\n",
       "2    1970-01-01 20:42:16 1970-01-01 20:57:16\n",
       "3    1970-01-01 20:57:16 1970-01-01 21:12:16\n",
       "4    1970-01-01 21:12:16 1970-01-01 21:27:16\n",
       "...                  ...                 ...\n",
       "9783 1970-04-13 17:57:16 1970-04-13 18:12:16\n",
       "9784 1970-04-13 18:12:16 1970-04-13 18:27:16\n",
       "9785 1970-04-13 18:27:16 1970-04-13 18:42:16\n",
       "9786 1970-04-13 18:42:16 1970-04-13 18:57:16\n",
       "9787 1970-04-13 18:57:16 1970-04-13 19:12:16\n",
       "\n",
       "[9788 rows x 2 columns]"
      ]
     },
     "execution_count": 20,
     "metadata": {},
     "output_type": "execute_result"
    }
   ],
   "source": [
    "df3"
   ]
  },
  {
   "cell_type": "code",
   "execution_count": 21,
   "id": "6f826ec3",
   "metadata": {},
   "outputs": [
    {
     "data": {
      "text/html": [
       "<div>\n",
       "<style scoped>\n",
       "    .dataframe tbody tr th:only-of-type {\n",
       "        vertical-align: middle;\n",
       "    }\n",
       "\n",
       "    .dataframe tbody tr th {\n",
       "        vertical-align: top;\n",
       "    }\n",
       "\n",
       "    .dataframe thead th {\n",
       "        text-align: right;\n",
       "    }\n",
       "</style>\n",
       "<table border=\"1\" class=\"dataframe\">\n",
       "  <thead>\n",
       "    <tr style=\"text-align: right;\">\n",
       "      <th></th>\n",
       "      <th>login_time</th>\n",
       "    </tr>\n",
       "  </thead>\n",
       "  <tbody>\n",
       "    <tr>\n",
       "      <th>0</th>\n",
       "      <td>1970-01-01 20:13:18</td>\n",
       "    </tr>\n",
       "    <tr>\n",
       "      <th>1</th>\n",
       "      <td>1970-01-01 20:16:10</td>\n",
       "    </tr>\n",
       "    <tr>\n",
       "      <th>2</th>\n",
       "      <td>1970-01-01 20:16:37</td>\n",
       "    </tr>\n",
       "    <tr>\n",
       "      <th>3</th>\n",
       "      <td>1970-01-01 20:16:36</td>\n",
       "    </tr>\n",
       "    <tr>\n",
       "      <th>4</th>\n",
       "      <td>1970-01-01 20:26:21</td>\n",
       "    </tr>\n",
       "    <tr>\n",
       "      <th>...</th>\n",
       "      <td>...</td>\n",
       "    </tr>\n",
       "    <tr>\n",
       "      <th>93137</th>\n",
       "      <td>1970-04-13 18:50:19</td>\n",
       "    </tr>\n",
       "    <tr>\n",
       "      <th>93138</th>\n",
       "      <td>1970-04-13 18:43:56</td>\n",
       "    </tr>\n",
       "    <tr>\n",
       "      <th>93139</th>\n",
       "      <td>1970-04-13 18:54:02</td>\n",
       "    </tr>\n",
       "    <tr>\n",
       "      <th>93140</th>\n",
       "      <td>1970-04-13 18:57:38</td>\n",
       "    </tr>\n",
       "    <tr>\n",
       "      <th>93141</th>\n",
       "      <td>1970-04-13 18:54:23</td>\n",
       "    </tr>\n",
       "  </tbody>\n",
       "</table>\n",
       "<p>93142 rows × 1 columns</p>\n",
       "</div>"
      ],
      "text/plain": [
       "               login_time\n",
       "0     1970-01-01 20:13:18\n",
       "1     1970-01-01 20:16:10\n",
       "2     1970-01-01 20:16:37\n",
       "3     1970-01-01 20:16:36\n",
       "4     1970-01-01 20:26:21\n",
       "...                   ...\n",
       "93137 1970-04-13 18:50:19\n",
       "93138 1970-04-13 18:43:56\n",
       "93139 1970-04-13 18:54:02\n",
       "93140 1970-04-13 18:57:38\n",
       "93141 1970-04-13 18:54:23\n",
       "\n",
       "[93142 rows x 1 columns]"
      ]
     },
     "execution_count": 21,
     "metadata": {},
     "output_type": "execute_result"
    }
   ],
   "source": [
    "df1"
   ]
  },
  {
   "cell_type": "code",
   "execution_count": 22,
   "id": "0fcef237",
   "metadata": {},
   "outputs": [],
   "source": [
    "df3['login_count'] = 0"
   ]
  },
  {
   "cell_type": "code",
   "execution_count": 23,
   "id": "03e51da5",
   "metadata": {},
   "outputs": [],
   "source": [
    "# for i in df3['login_count'][:5]:\n",
    "#     #print(df3['login_count'][i])\n",
    "#     for x in df1['login_time']:\n",
    "#         print(df1['login_time'][:5])\n",
    "#         #print(df1['login_time'][x])"
   ]
  },
  {
   "cell_type": "markdown",
   "id": "66c2e1f5",
   "metadata": {},
   "source": [
    "for i in df1['login_count']"
   ]
  },
  {
   "cell_type": "code",
   "execution_count": null,
   "id": "118ff6b2",
   "metadata": {},
   "outputs": [],
   "source": []
  },
  {
   "cell_type": "code",
   "execution_count": 24,
   "id": "6bbac063",
   "metadata": {},
   "outputs": [],
   "source": [
    "# # converting index to datetime index\n",
    "# df1['login_time'].index = pd.to_datetime(df1['login_time'])\n",
    "  \n",
    "# # Changing start time for each hour, by default start time is at 0th minute\n",
    "# df1['login_time'].resample('W',  loffset='30Min30s').login_time.sum().head(2)\n",
    "# df1['login_time'].resample('W', loffset='30Min30s').login_time.sum().head(2)\n",
    "  \n",
    "# # we can also aggregate it will show quantity added in each week\n",
    "# # as well as the total amount added in each week\n",
    "# df1['login_time'].resample('W', loffset='30Min30s').agg(\n",
    "#     {'login_time': 'sum'}).head(5)"
   ]
  },
  {
   "cell_type": "code",
   "execution_count": 25,
   "id": "12f6a0ee",
   "metadata": {},
   "outputs": [],
   "source": [
    "#df1['login_time'].index = pd.to_datetime(df1['login_time'])"
   ]
  },
  {
   "cell_type": "markdown",
   "id": "dc0a151c",
   "metadata": {},
   "source": [
    "for i in df3['login_count'][:10]:\n",
    "    df3['login_count'][i] = 0\n",
    "    for x in df1[\"login_time\"]:\n",
    "        if df1[\"login_time\"][x] >= df3['begin_time'][i] and df1[\"login_time\"][x] < df3['end_time'][i]:\n",
    "            df3['login_count'][i] += 1\n"
   ]
  },
  {
   "cell_type": "code",
   "execution_count": 29,
   "id": "224848d3",
   "metadata": {},
   "outputs": [
    {
     "name": "stderr",
     "output_type": "stream",
     "text": [
      "/var/folders/rc/20gvvbw10mg1xrcm82p5g4tm0000gn/T/ipykernel_6573/470418571.py:2: SettingWithCopyWarning: \n",
      "A value is trying to be set on a copy of a slice from a DataFrame\n",
      "\n",
      "See the caveats in the documentation: https://pandas.pydata.org/pandas-docs/stable/user_guide/indexing.html#returning-a-view-versus-a-copy\n",
      "  df3['login_count'][i] = 0\n"
     ]
    },
    {
     "ename": "KeyError",
     "evalue": "Timestamp('1970-01-01 20:13:18')",
     "output_type": "error",
     "traceback": [
      "\u001b[0;31m---------------------------------------------------------------------------\u001b[0m",
      "\u001b[0;31mKeyError\u001b[0m                                  Traceback (most recent call last)",
      "Input \u001b[0;32mIn [29]\u001b[0m, in \u001b[0;36m<cell line: 1>\u001b[0;34m()\u001b[0m\n\u001b[1;32m      2\u001b[0m df3[\u001b[38;5;124m'\u001b[39m\u001b[38;5;124mlogin_count\u001b[39m\u001b[38;5;124m'\u001b[39m][i] \u001b[38;5;241m=\u001b[39m \u001b[38;5;241m0\u001b[39m\n\u001b[1;32m      3\u001b[0m \u001b[38;5;28;01mfor\u001b[39;00m x \u001b[38;5;129;01min\u001b[39;00m df1[\u001b[38;5;124m\"\u001b[39m\u001b[38;5;124mlogin_time\u001b[39m\u001b[38;5;124m\"\u001b[39m]:\n\u001b[0;32m----> 4\u001b[0m     \u001b[38;5;28;01mif\u001b[39;00m \u001b[43mdf1\u001b[49m\u001b[43m[\u001b[49m\u001b[38;5;124;43m\"\u001b[39;49m\u001b[38;5;124;43mlogin_time\u001b[39;49m\u001b[38;5;124;43m\"\u001b[39;49m\u001b[43m]\u001b[49m\u001b[43m[\u001b[49m\u001b[43mx\u001b[49m\u001b[43m]\u001b[49m \u001b[38;5;241m>\u001b[39m\u001b[38;5;241m=\u001b[39m df3[\u001b[38;5;124m'\u001b[39m\u001b[38;5;124mbegin_time\u001b[39m\u001b[38;5;124m'\u001b[39m][i]:\n\u001b[1;32m      5\u001b[0m         df3[\u001b[38;5;124m'\u001b[39m\u001b[38;5;124mlogin_count\u001b[39m\u001b[38;5;124m'\u001b[39m][i] \u001b[38;5;241m+\u001b[39m\u001b[38;5;241m=\u001b[39m \u001b[38;5;241m1\u001b[39m\n",
      "File \u001b[0;32m~/opt/anaconda3/lib/python3.9/site-packages/pandas/core/series.py:958\u001b[0m, in \u001b[0;36mSeries.__getitem__\u001b[0;34m(self, key)\u001b[0m\n\u001b[1;32m    955\u001b[0m     \u001b[38;5;28;01mreturn\u001b[39;00m \u001b[38;5;28mself\u001b[39m\u001b[38;5;241m.\u001b[39m_values[key]\n\u001b[1;32m    957\u001b[0m \u001b[38;5;28;01melif\u001b[39;00m key_is_scalar:\n\u001b[0;32m--> 958\u001b[0m     \u001b[38;5;28;01mreturn\u001b[39;00m \u001b[38;5;28;43mself\u001b[39;49m\u001b[38;5;241;43m.\u001b[39;49m\u001b[43m_get_value\u001b[49m\u001b[43m(\u001b[49m\u001b[43mkey\u001b[49m\u001b[43m)\u001b[49m\n\u001b[1;32m    960\u001b[0m \u001b[38;5;28;01mif\u001b[39;00m is_hashable(key):\n\u001b[1;32m    961\u001b[0m     \u001b[38;5;66;03m# Otherwise index.get_value will raise InvalidIndexError\u001b[39;00m\n\u001b[1;32m    962\u001b[0m     \u001b[38;5;28;01mtry\u001b[39;00m:\n\u001b[1;32m    963\u001b[0m         \u001b[38;5;66;03m# For labels that don't resolve as scalars like tuples and frozensets\u001b[39;00m\n",
      "File \u001b[0;32m~/opt/anaconda3/lib/python3.9/site-packages/pandas/core/series.py:1069\u001b[0m, in \u001b[0;36mSeries._get_value\u001b[0;34m(self, label, takeable)\u001b[0m\n\u001b[1;32m   1066\u001b[0m     \u001b[38;5;28;01mreturn\u001b[39;00m \u001b[38;5;28mself\u001b[39m\u001b[38;5;241m.\u001b[39m_values[label]\n\u001b[1;32m   1068\u001b[0m \u001b[38;5;66;03m# Similar to Index.get_value, but we do not fall back to positional\u001b[39;00m\n\u001b[0;32m-> 1069\u001b[0m loc \u001b[38;5;241m=\u001b[39m \u001b[38;5;28;43mself\u001b[39;49m\u001b[38;5;241;43m.\u001b[39;49m\u001b[43mindex\u001b[49m\u001b[38;5;241;43m.\u001b[39;49m\u001b[43mget_loc\u001b[49m\u001b[43m(\u001b[49m\u001b[43mlabel\u001b[49m\u001b[43m)\u001b[49m\n\u001b[1;32m   1070\u001b[0m \u001b[38;5;28;01mreturn\u001b[39;00m \u001b[38;5;28mself\u001b[39m\u001b[38;5;241m.\u001b[39mindex\u001b[38;5;241m.\u001b[39m_get_values_for_loc(\u001b[38;5;28mself\u001b[39m, loc, label)\n",
      "File \u001b[0;32m~/opt/anaconda3/lib/python3.9/site-packages/pandas/core/indexes/range.py:389\u001b[0m, in \u001b[0;36mRangeIndex.get_loc\u001b[0;34m(self, key, method, tolerance)\u001b[0m\n\u001b[1;32m    387\u001b[0m             \u001b[38;5;28;01mraise\u001b[39;00m \u001b[38;5;167;01mKeyError\u001b[39;00m(key) \u001b[38;5;28;01mfrom\u001b[39;00m \u001b[38;5;21;01merr\u001b[39;00m\n\u001b[1;32m    388\u001b[0m     \u001b[38;5;28mself\u001b[39m\u001b[38;5;241m.\u001b[39m_check_indexing_error(key)\n\u001b[0;32m--> 389\u001b[0m     \u001b[38;5;28;01mraise\u001b[39;00m \u001b[38;5;167;01mKeyError\u001b[39;00m(key)\n\u001b[1;32m    390\u001b[0m \u001b[38;5;28;01mreturn\u001b[39;00m \u001b[38;5;28msuper\u001b[39m()\u001b[38;5;241m.\u001b[39mget_loc(key, method\u001b[38;5;241m=\u001b[39mmethod, tolerance\u001b[38;5;241m=\u001b[39mtolerance)\n",
      "\u001b[0;31mKeyError\u001b[0m: Timestamp('1970-01-01 20:13:18')"
     ]
    }
   ],
   "source": [
    "for i in df3['login_count'][:10]:\n",
    "    df3['login_count'][i] = 0\n",
    "    for x in df1[\"login_time\"]:\n",
    "        if df1[\"login_time\"][x] >= df3['begin_time'][i]:\n",
    "            df3['login_count'][i] += 1\n"
   ]
  },
  {
   "cell_type": "code",
   "execution_count": null,
   "id": "a754ab8c",
   "metadata": {},
   "outputs": [],
   "source": [
    "df3"
   ]
  },
  {
   "cell_type": "code",
   "execution_count": null,
   "id": "fce25a60",
   "metadata": {},
   "outputs": [],
   "source": []
  },
  {
   "cell_type": "code",
   "execution_count": null,
   "id": "40c2369d",
   "metadata": {},
   "outputs": [],
   "source": [
    "#new_df.end_times2 = new_df.apply(lambda x: x.begin_times2 + pd.Timedelta(Second(new_df.duration)) ,axis = 1)"
   ]
  },
  {
   "cell_type": "code",
   "execution_count": null,
   "id": "880064e5",
   "metadata": {},
   "outputs": [],
   "source": []
  },
  {
   "cell_type": "code",
   "execution_count": null,
   "id": "1de0b146",
   "metadata": {},
   "outputs": [],
   "source": []
  },
  {
   "cell_type": "code",
   "execution_count": null,
   "id": "b0023bf6",
   "metadata": {},
   "outputs": [],
   "source": []
  },
  {
   "cell_type": "code",
   "execution_count": null,
   "id": "264fc5e7",
   "metadata": {},
   "outputs": [],
   "source": []
  },
  {
   "cell_type": "code",
   "execution_count": null,
   "id": "2c5590e5",
   "metadata": {},
   "outputs": [],
   "source": []
  },
  {
   "cell_type": "code",
   "execution_count": null,
   "id": "86abbd8a",
   "metadata": {},
   "outputs": [],
   "source": []
  },
  {
   "cell_type": "code",
   "execution_count": null,
   "id": "5f109fb1",
   "metadata": {},
   "outputs": [],
   "source": []
  },
  {
   "cell_type": "code",
   "execution_count": null,
   "id": "40343bd9",
   "metadata": {},
   "outputs": [],
   "source": []
  },
  {
   "cell_type": "code",
   "execution_count": null,
   "id": "ccdaa56f",
   "metadata": {},
   "outputs": [],
   "source": []
  },
  {
   "cell_type": "code",
   "execution_count": null,
   "id": "332a9a0f",
   "metadata": {},
   "outputs": [],
   "source": []
  },
  {
   "cell_type": "code",
   "execution_count": null,
   "id": "0505ee07",
   "metadata": {},
   "outputs": [],
   "source": []
  },
  {
   "cell_type": "code",
   "execution_count": null,
   "id": "35b8620a",
   "metadata": {},
   "outputs": [],
   "source": []
  },
  {
   "cell_type": "code",
   "execution_count": null,
   "id": "e7823bbb",
   "metadata": {},
   "outputs": [],
   "source": []
  },
  {
   "cell_type": "code",
   "execution_count": null,
   "id": "4ea32ad4",
   "metadata": {},
   "outputs": [],
   "source": []
  },
  {
   "cell_type": "markdown",
   "id": "71b6a3e6",
   "metadata": {},
   "source": [
    "### brainstorm to create intervals:"
   ]
  },
  {
   "cell_type": "markdown",
   "id": "0c5064ef",
   "metadata": {},
   "source": [
    "- create a dataframe with 15 minute intervals --> start time is 15 minute intervals, and end time is beginning of interval + X number of seconds\n",
    "- column with begin time\n",
    "- column with end time\n",
    "- loop through login file and count how many logins are between those two times"
   ]
  },
  {
   "cell_type": "code",
   "execution_count": null,
   "id": "4962a71b",
   "metadata": {},
   "outputs": [],
   "source": []
  },
  {
   "cell_type": "code",
   "execution_count": null,
   "id": "02709271",
   "metadata": {},
   "outputs": [],
   "source": []
  },
  {
   "cell_type": "code",
   "execution_count": null,
   "id": "e903accd",
   "metadata": {},
   "outputs": [],
   "source": []
  },
  {
   "cell_type": "code",
   "execution_count": null,
   "id": "1f123843",
   "metadata": {},
   "outputs": [],
   "source": []
  },
  {
   "cell_type": "code",
   "execution_count": null,
   "id": "24858f4f",
   "metadata": {},
   "outputs": [],
   "source": []
  },
  {
   "cell_type": "code",
   "execution_count": null,
   "id": "d0723e4d",
   "metadata": {},
   "outputs": [],
   "source": []
  },
  {
   "cell_type": "code",
   "execution_count": null,
   "id": "47d30117",
   "metadata": {},
   "outputs": [],
   "source": []
  },
  {
   "cell_type": "code",
   "execution_count": null,
   "id": "cbee2779",
   "metadata": {},
   "outputs": [],
   "source": []
  },
  {
   "cell_type": "code",
   "execution_count": null,
   "id": "6ae9faf5",
   "metadata": {},
   "outputs": [],
   "source": []
  },
  {
   "cell_type": "code",
   "execution_count": null,
   "id": "66faacc2",
   "metadata": {},
   "outputs": [],
   "source": []
  },
  {
   "cell_type": "code",
   "execution_count": null,
   "id": "0acfe753",
   "metadata": {},
   "outputs": [],
   "source": []
  },
  {
   "cell_type": "code",
   "execution_count": null,
   "id": "08c22559",
   "metadata": {},
   "outputs": [],
   "source": []
  },
  {
   "cell_type": "code",
   "execution_count": null,
   "id": "22541c4d",
   "metadata": {},
   "outputs": [],
   "source": []
  },
  {
   "cell_type": "code",
   "execution_count": null,
   "id": "c797cd69",
   "metadata": {},
   "outputs": [],
   "source": []
  },
  {
   "cell_type": "code",
   "execution_count": null,
   "id": "542a9d94",
   "metadata": {},
   "outputs": [],
   "source": []
  },
  {
   "cell_type": "code",
   "execution_count": null,
   "id": "4270979d",
   "metadata": {},
   "outputs": [],
   "source": []
  },
  {
   "cell_type": "code",
   "execution_count": null,
   "id": "6603f21c",
   "metadata": {},
   "outputs": [],
   "source": []
  },
  {
   "cell_type": "code",
   "execution_count": null,
   "id": "f42a413c",
   "metadata": {},
   "outputs": [],
   "source": []
  },
  {
   "cell_type": "code",
   "execution_count": null,
   "id": "ad4e4e58",
   "metadata": {},
   "outputs": [],
   "source": []
  }
 ],
 "metadata": {
  "kernelspec": {
   "display_name": "Python 3 (ipykernel)",
   "language": "python",
   "name": "python3"
  },
  "language_info": {
   "codemirror_mode": {
    "name": "ipython",
    "version": 3
   },
   "file_extension": ".py",
   "mimetype": "text/x-python",
   "name": "python",
   "nbconvert_exporter": "python",
   "pygments_lexer": "ipython3",
   "version": "3.9.12"
  }
 },
 "nbformat": 4,
 "nbformat_minor": 5
}
